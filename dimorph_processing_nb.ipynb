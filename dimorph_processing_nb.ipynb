{
 "cells": [
  {
   "cell_type": "markdown",
   "id": "17263412",
   "metadata": {},
   "source": [
    "# Development notebook for processing sexual dimorphism data\n",
    "## This notebook takes as input the csv produced from 'sample_reader_nb', which represents the load and rearranged sexual dimorphism data matrix"
   ]
  },
  {
   "cell_type": "code",
   "execution_count": 1,
   "id": "38405629",
   "metadata": {},
   "outputs": [],
   "source": [
    "# Isaac Berez\n",
    "# 17.01.23\n",
    "\n",
    "from scipy.io import mmread\n",
    "import os\n",
    "import glob\n",
    "import pandas as pd\n",
    "import numpy as np\n",
    "from pandas_ods_reader import read_ods\n",
    "from copy import deepcopy\n",
    "import pprint\n",
    "import json\n",
    "import re\n",
    "from datetime import datetime\n",
    "import logging\n",
    "\n",
    "\n",
    "import sample_reader as sr"
   ]
  },
  {
   "cell_type": "markdown",
   "id": "2af78dee",
   "metadata": {},
   "source": [
    "### 1. Read in meta data and big data file"
   ]
  },
  {
   "cell_type": "code",
   "execution_count": 9,
   "id": "69b2629b",
   "metadata": {},
   "outputs": [
    {
     "data": {
      "text/html": [
       "<div>\n",
       "<style scoped>\n",
       "    .dataframe tbody tr th:only-of-type {\n",
       "        vertical-align: middle;\n",
       "    }\n",
       "\n",
       "    .dataframe tbody tr th {\n",
       "        vertical-align: top;\n",
       "    }\n",
       "\n",
       "    .dataframe thead th {\n",
       "        text-align: right;\n",
       "    }\n",
       "</style>\n",
       "<table border=\"1\" class=\"dataframe\">\n",
       "  <thead>\n",
       "    <tr style=\"text-align: right;\">\n",
       "      <th></th>\n",
       "      <th>10X54_1</th>\n",
       "      <th>10X54_2</th>\n",
       "      <th>10x98_2</th>\n",
       "      <th>10x98_3</th>\n",
       "      <th>10X51_2</th>\n",
       "    </tr>\n",
       "  </thead>\n",
       "  <tbody>\n",
       "    <tr>\n",
       "      <th>Serial_Number</th>\n",
       "      <td>106.0</td>\n",
       "      <td>107.0</td>\n",
       "      <td>212.0</td>\n",
       "      <td>213.0</td>\n",
       "      <td>98.0</td>\n",
       "    </tr>\n",
       "    <tr>\n",
       "      <th>Date_Captured</th>\n",
       "      <td>43993.0</td>\n",
       "      <td>43993.0</td>\n",
       "      <td>2021-03-22</td>\n",
       "      <td>2021-03-22</td>\n",
       "      <td>05/31/20</td>\n",
       "    </tr>\n",
       "    <tr>\n",
       "      <th>Species</th>\n",
       "      <td>Mm</td>\n",
       "      <td>Mm</td>\n",
       "      <td>Mm</td>\n",
       "      <td>Mm</td>\n",
       "      <td>Mm</td>\n",
       "    </tr>\n",
       "    <tr>\n",
       "      <th>Transcriptome</th>\n",
       "      <td>Mm10</td>\n",
       "      <td>Mm10</td>\n",
       "      <td>Mm10</td>\n",
       "      <td>Mm10</td>\n",
       "      <td>Mm10</td>\n",
       "    </tr>\n",
       "    <tr>\n",
       "      <th>Strain</th>\n",
       "      <td>Cntnp-C57Bl/6</td>\n",
       "      <td>Cntnp-C57Bl/6</td>\n",
       "      <td>Cntnp-C57Bl/6</td>\n",
       "      <td>Cntnp-C57Bl/6</td>\n",
       "      <td>C57Bl/6</td>\n",
       "    </tr>\n",
       "  </tbody>\n",
       "</table>\n",
       "</div>"
      ],
      "text/plain": [
       "                     10X54_1        10X54_2        10x98_2        10x98_3  \\\n",
       "Serial_Number          106.0          107.0          212.0          213.0   \n",
       "Date_Captured        43993.0        43993.0     2021-03-22     2021-03-22   \n",
       "Species                   Mm             Mm             Mm             Mm   \n",
       "Transcriptome           Mm10           Mm10           Mm10           Mm10   \n",
       "Strain         Cntnp-C57Bl/6  Cntnp-C57Bl/6  Cntnp-C57Bl/6  Cntnp-C57Bl/6   \n",
       "\n",
       "                10X51_2  \n",
       "Serial_Number      98.0  \n",
       "Date_Captured  05/31/20  \n",
       "Species              Mm  \n",
       "Transcriptome      Mm10  \n",
       "Strain          C57Bl/6  "
      ]
     },
     "execution_count": 9,
     "metadata": {},
     "output_type": "execute_result"
    }
   ],
   "source": [
    "meta_data = pd.read_json('/bigdata/isaac/meta_data_dict.json')\n",
    "meta_data.iloc[:5,:5]"
   ]
  },
  {
   "cell_type": "code",
   "execution_count": 3,
   "id": "ddf55b44",
   "metadata": {},
   "outputs": [
    {
     "data": {
      "text/html": [
       "<div>\n",
       "<style scoped>\n",
       "    .dataframe tbody tr th:only-of-type {\n",
       "        vertical-align: middle;\n",
       "    }\n",
       "\n",
       "    .dataframe tbody tr th {\n",
       "        vertical-align: top;\n",
       "    }\n",
       "\n",
       "    .dataframe thead th {\n",
       "        text-align: right;\n",
       "    }\n",
       "</style>\n",
       "<table border=\"1\" class=\"dataframe\">\n",
       "  <thead>\n",
       "    <tr style=\"text-align: right;\">\n",
       "      <th></th>\n",
       "      <th>('AAACCCACAACAGTGG-110X54_1',)</th>\n",
       "      <th>('AAACCCACATGGCCCA-110X54_1',)</th>\n",
       "      <th>('AAACCCAGTCCCTGAG-110X54_1',)</th>\n",
       "      <th>('AAACGAACACTACAGT-110X54_1',)</th>\n",
       "      <th>('AAACGAATCCCAGCGA-110X54_1',)</th>\n",
       "    </tr>\n",
       "  </thead>\n",
       "  <tbody>\n",
       "    <tr>\n",
       "      <th>('0610007P14Rik',)</th>\n",
       "      <td>0</td>\n",
       "      <td>1</td>\n",
       "      <td>5</td>\n",
       "      <td>0</td>\n",
       "      <td>0</td>\n",
       "    </tr>\n",
       "    <tr>\n",
       "      <th>('0610009B22Rik',)</th>\n",
       "      <td>0</td>\n",
       "      <td>0</td>\n",
       "      <td>0</td>\n",
       "      <td>1</td>\n",
       "      <td>0</td>\n",
       "    </tr>\n",
       "    <tr>\n",
       "      <th>('0610009L18Rik',)</th>\n",
       "      <td>0</td>\n",
       "      <td>0</td>\n",
       "      <td>0</td>\n",
       "      <td>0</td>\n",
       "      <td>1</td>\n",
       "    </tr>\n",
       "    <tr>\n",
       "      <th>('0610009O20Rik',)</th>\n",
       "      <td>0</td>\n",
       "      <td>0</td>\n",
       "      <td>0</td>\n",
       "      <td>0</td>\n",
       "      <td>0</td>\n",
       "    </tr>\n",
       "    <tr>\n",
       "      <th>('0610010F05Rik',)</th>\n",
       "      <td>0</td>\n",
       "      <td>0</td>\n",
       "      <td>0</td>\n",
       "      <td>0</td>\n",
       "      <td>0</td>\n",
       "    </tr>\n",
       "  </tbody>\n",
       "</table>\n",
       "</div>"
      ],
      "text/plain": [
       "                    ('AAACCCACAACAGTGG-110X54_1',)  \\\n",
       "('0610007P14Rik',)                               0   \n",
       "('0610009B22Rik',)                               0   \n",
       "('0610009L18Rik',)                               0   \n",
       "('0610009O20Rik',)                               0   \n",
       "('0610010F05Rik',)                               0   \n",
       "\n",
       "                    ('AAACCCACATGGCCCA-110X54_1',)  \\\n",
       "('0610007P14Rik',)                               1   \n",
       "('0610009B22Rik',)                               0   \n",
       "('0610009L18Rik',)                               0   \n",
       "('0610009O20Rik',)                               0   \n",
       "('0610010F05Rik',)                               0   \n",
       "\n",
       "                    ('AAACCCAGTCCCTGAG-110X54_1',)  \\\n",
       "('0610007P14Rik',)                               5   \n",
       "('0610009B22Rik',)                               0   \n",
       "('0610009L18Rik',)                               0   \n",
       "('0610009O20Rik',)                               0   \n",
       "('0610010F05Rik',)                               0   \n",
       "\n",
       "                    ('AAACGAACACTACAGT-110X54_1',)  \\\n",
       "('0610007P14Rik',)                               0   \n",
       "('0610009B22Rik',)                               1   \n",
       "('0610009L18Rik',)                               0   \n",
       "('0610009O20Rik',)                               0   \n",
       "('0610010F05Rik',)                               0   \n",
       "\n",
       "                    ('AAACGAATCCCAGCGA-110X54_1',)  \n",
       "('0610007P14Rik',)                               0  \n",
       "('0610009B22Rik',)                               0  \n",
       "('0610009L18Rik',)                               1  \n",
       "('0610009O20Rik',)                               0  \n",
       "('0610010F05Rik',)                               0  "
      ]
     },
     "execution_count": 3,
     "metadata": {},
     "output_type": "execute_result"
    }
   ],
   "source": [
    "test_df = pd.read_csv('/bigdata/isaac/test_df.csv')\n",
    "test_df"
   ]
  },
  {
   "cell_type": "markdown",
   "id": "7c24c8d5",
   "metadata": {},
   "source": [
    "### 2. Calculate molecules/cell and genes/cell vectors \n",
    "### expected shape: 1xtotal number of cells (columns) = 1x101317"
   ]
  },
  {
   "cell_type": "code",
   "execution_count": 10,
   "id": "f936652b",
   "metadata": {},
   "outputs": [
    {
     "data": {
      "text/plain": [
       "\"('AAACCCACAACAGTGG-110X54_1',)\""
      ]
     },
     "execution_count": 10,
     "metadata": {},
     "output_type": "execute_result"
    }
   ],
   "source": [
    "test_df.columns[0]"
   ]
  },
  {
   "cell_type": "code",
   "execution_count": 21,
   "id": "9abc2640",
   "metadata": {},
   "outputs": [
    {
     "name": "stdout",
     "output_type": "stream",
     "text": [
      "(1, 5)\n",
      "[[0 1 5 1 1]]\n"
     ]
    }
   ],
   "source": [
    "total_molecules_per_cell = test_df.sum(axis=0)\n",
    "total_molecules_per_cell = np.reshape(np.array(total_molecules_per_cell),(1,len(total_molecules_per_cell)))\n",
    "print('total molecules per cell shape: ', total_molecules_per_cell.shape)\n",
    "print('total molecules per cell: ', total_molecules_per_cell)"
   ]
  },
  {
   "cell_type": "code",
   "execution_count": 20,
   "id": "c5678fee",
   "metadata": {},
   "outputs": [
    {
     "data": {
      "text/html": [
       "<div>\n",
       "<style scoped>\n",
       "    .dataframe tbody tr th:only-of-type {\n",
       "        vertical-align: middle;\n",
       "    }\n",
       "\n",
       "    .dataframe tbody tr th {\n",
       "        vertical-align: top;\n",
       "    }\n",
       "\n",
       "    .dataframe thead th {\n",
       "        text-align: right;\n",
       "    }\n",
       "</style>\n",
       "<table border=\"1\" class=\"dataframe\">\n",
       "  <thead>\n",
       "    <tr style=\"text-align: right;\">\n",
       "      <th></th>\n",
       "      <th>('AAACCCACAACAGTGG-110X54_1',)</th>\n",
       "      <th>('AAACCCACATGGCCCA-110X54_1',)</th>\n",
       "      <th>('AAACCCAGTCCCTGAG-110X54_1',)</th>\n",
       "      <th>('AAACGAACACTACAGT-110X54_1',)</th>\n",
       "      <th>('AAACGAATCCCAGCGA-110X54_1',)</th>\n",
       "    </tr>\n",
       "  </thead>\n",
       "  <tbody>\n",
       "    <tr>\n",
       "      <th>('0610007P14Rik',)</th>\n",
       "      <td>0</td>\n",
       "      <td>1</td>\n",
       "      <td>1</td>\n",
       "      <td>0</td>\n",
       "      <td>0</td>\n",
       "    </tr>\n",
       "    <tr>\n",
       "      <th>('0610009B22Rik',)</th>\n",
       "      <td>0</td>\n",
       "      <td>0</td>\n",
       "      <td>0</td>\n",
       "      <td>1</td>\n",
       "      <td>0</td>\n",
       "    </tr>\n",
       "    <tr>\n",
       "      <th>('0610009L18Rik',)</th>\n",
       "      <td>0</td>\n",
       "      <td>0</td>\n",
       "      <td>0</td>\n",
       "      <td>0</td>\n",
       "      <td>1</td>\n",
       "    </tr>\n",
       "    <tr>\n",
       "      <th>('0610009O20Rik',)</th>\n",
       "      <td>0</td>\n",
       "      <td>0</td>\n",
       "      <td>0</td>\n",
       "      <td>0</td>\n",
       "      <td>0</td>\n",
       "    </tr>\n",
       "    <tr>\n",
       "      <th>('0610010F05Rik',)</th>\n",
       "      <td>0</td>\n",
       "      <td>0</td>\n",
       "      <td>0</td>\n",
       "      <td>0</td>\n",
       "      <td>0</td>\n",
       "    </tr>\n",
       "  </tbody>\n",
       "</table>\n",
       "</div>"
      ],
      "text/plain": [
       "                    ('AAACCCACAACAGTGG-110X54_1',)  \\\n",
       "('0610007P14Rik',)                               0   \n",
       "('0610009B22Rik',)                               0   \n",
       "('0610009L18Rik',)                               0   \n",
       "('0610009O20Rik',)                               0   \n",
       "('0610010F05Rik',)                               0   \n",
       "\n",
       "                    ('AAACCCACATGGCCCA-110X54_1',)  \\\n",
       "('0610007P14Rik',)                               1   \n",
       "('0610009B22Rik',)                               0   \n",
       "('0610009L18Rik',)                               0   \n",
       "('0610009O20Rik',)                               0   \n",
       "('0610010F05Rik',)                               0   \n",
       "\n",
       "                    ('AAACCCAGTCCCTGAG-110X54_1',)  \\\n",
       "('0610007P14Rik',)                               1   \n",
       "('0610009B22Rik',)                               0   \n",
       "('0610009L18Rik',)                               0   \n",
       "('0610009O20Rik',)                               0   \n",
       "('0610010F05Rik',)                               0   \n",
       "\n",
       "                    ('AAACGAACACTACAGT-110X54_1',)  \\\n",
       "('0610007P14Rik',)                               0   \n",
       "('0610009B22Rik',)                               1   \n",
       "('0610009L18Rik',)                               0   \n",
       "('0610009O20Rik',)                               0   \n",
       "('0610010F05Rik',)                               0   \n",
       "\n",
       "                    ('AAACGAATCCCAGCGA-110X54_1',)  \n",
       "('0610007P14Rik',)                               0  \n",
       "('0610009B22Rik',)                               0  \n",
       "('0610009L18Rik',)                               1  \n",
       "('0610009O20Rik',)                               0  \n",
       "('0610010F05Rik',)                               0  "
      ]
     },
     "execution_count": 20,
     "metadata": {},
     "output_type": "execute_result"
    }
   ],
   "source": [
    "test_df_bool = test_df.mask(test_df>0, other = 1)\n",
    "test_df_bool"
   ]
  },
  {
   "cell_type": "code",
   "execution_count": 22,
   "id": "eeef2eab",
   "metadata": {},
   "outputs": [
    {
     "name": "stdout",
     "output_type": "stream",
     "text": [
      "total molecules per cell shape:  (1, 5)\n",
      "total molecules per cell:  [[0 1 1 1 1]]\n"
     ]
    }
   ],
   "source": [
    "total_genes_per_cell = test_df_bool.sum(axis=0)\n",
    "total_genes_per_cell = np.reshape(np.array(total_genes_per_cell),(1,len(total_genes_per_cell)))\n",
    "print('total molecules per cell shape: ', total_genes_per_cell.shape)\n",
    "print('total molecules per cell: ', total_genes_per_cell)"
   ]
  },
  {
   "cell_type": "code",
   "execution_count": null,
   "id": "64746ed5",
   "metadata": {},
   "outputs": [],
   "source": []
  }
 ],
 "metadata": {
  "kernelspec": {
   "display_name": "Python 3 (ipykernel)",
   "language": "python",
   "name": "python3"
  },
  "language_info": {
   "codemirror_mode": {
    "name": "ipython",
    "version": 3
   },
   "file_extension": ".py",
   "mimetype": "text/x-python",
   "name": "python",
   "nbconvert_exporter": "python",
   "pygments_lexer": "ipython3",
   "version": "3.11.5"
  }
 },
 "nbformat": 4,
 "nbformat_minor": 5
}
