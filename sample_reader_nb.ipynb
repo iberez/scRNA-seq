{
 "cells": [
  {
   "cell_type": "code",
   "execution_count": 62,
   "id": "bd3a2fb8",
   "metadata": {},
   "outputs": [],
   "source": [
    "# sample reader to read samples from /data/runs/samples\n",
    "# and build each sample into a matrix\n",
    "\n",
    "# Isaac Berez\n",
    "# 14.01.23\n",
    "\n",
    "from scipy.io import mmread\n",
    "import os\n",
    "import glob\n",
    "import pandas as pd\n",
    "import numpy as np\n",
    "from pandas_ods_reader import read_ods"
   ]
  },
  {
   "cell_type": "code",
   "execution_count": null,
   "id": "c0c7cdeb",
   "metadata": {},
   "outputs": [],
   "source": []
  },
  {
   "cell_type": "code",
   "execution_count": 63,
   "id": "fdf00c34",
   "metadata": {},
   "outputs": [
    {
     "data": {
      "text/html": [
       "<div>\n",
       "<style scoped>\n",
       "    .dataframe tbody tr th:only-of-type {\n",
       "        vertical-align: middle;\n",
       "    }\n",
       "\n",
       "    .dataframe tbody tr th {\n",
       "        vertical-align: top;\n",
       "    }\n",
       "\n",
       "    .dataframe thead th {\n",
       "        text-align: right;\n",
       "    }\n",
       "</style>\n",
       "<table border=\"1\" class=\"dataframe\">\n",
       "  <thead>\n",
       "    <tr style=\"text-align: right;\">\n",
       "      <th></th>\n",
       "      <th>Serial_Number:int</th>\n",
       "      <th>Date_Captured:string</th>\n",
       "      <th>Species:string</th>\n",
       "      <th>Transcriptome:string</th>\n",
       "      <th>Strain:string</th>\n",
       "      <th>Project:string</th>\n",
       "      <th>Group</th>\n",
       "      <th>ChipID:string</th>\n",
       "      <th>SampleID:string</th>\n",
       "      <th>DonorID:string</th>\n",
       "      <th>...</th>\n",
       "      <th>Comments:string</th>\n",
       "      <th>cDNA_Lib_Ok:string</th>\n",
       "      <th>ngperul_cDNA:float64</th>\n",
       "      <th>Avesizebp_cDNAlib</th>\n",
       "      <th>Date</th>\n",
       "      <th>cDNAul</th>\n",
       "      <th>LIbConstructionComment</th>\n",
       "      <th>ngperul_seqlib:float64</th>\n",
       "      <th>lengthbp_seqlib:float64</th>\n",
       "      <th>Sample_Index:string</th>\n",
       "    </tr>\n",
       "  </thead>\n",
       "  <tbody>\n",
       "    <tr>\n",
       "      <th>0</th>\n",
       "      <td>106.0</td>\n",
       "      <td>43993.0</td>\n",
       "      <td>Mm</td>\n",
       "      <td>Mm10</td>\n",
       "      <td>Cntnp-C57Bl/6</td>\n",
       "      <td>Cntnp_KO</td>\n",
       "      <td>Cntnp-KO-F</td>\n",
       "      <td>10X54</td>\n",
       "      <td>10X54_1</td>\n",
       "      <td>Cntnp-KO_2-9F</td>\n",
       "      <td>...</td>\n",
       "      <td>Cntnp-KO female, showing Cntnp \"male\" ASD emot...</td>\n",
       "      <td>None</td>\n",
       "      <td>24.7</td>\n",
       "      <td>NaN</td>\n",
       "      <td>None</td>\n",
       "      <td>NaN</td>\n",
       "      <td>None</td>\n",
       "      <td>17.9</td>\n",
       "      <td>473.0</td>\n",
       "      <td>B3</td>\n",
       "    </tr>\n",
       "    <tr>\n",
       "      <th>1</th>\n",
       "      <td>107.0</td>\n",
       "      <td>43993.0</td>\n",
       "      <td>Mm</td>\n",
       "      <td>Mm10</td>\n",
       "      <td>Cntnp-C57Bl/6</td>\n",
       "      <td>Cntnp_KO</td>\n",
       "      <td>Cntnp-KO-F</td>\n",
       "      <td>10X54</td>\n",
       "      <td>10X54_2</td>\n",
       "      <td>Cntnp-KO_4-10F</td>\n",
       "      <td>...</td>\n",
       "      <td>Cntnp-KO female, showing Cntnp \"male\" ASD emot...</td>\n",
       "      <td>None</td>\n",
       "      <td>37.7</td>\n",
       "      <td>NaN</td>\n",
       "      <td>None</td>\n",
       "      <td>NaN</td>\n",
       "      <td>None</td>\n",
       "      <td>20.0</td>\n",
       "      <td>471.0</td>\n",
       "      <td>D3</td>\n",
       "    </tr>\n",
       "    <tr>\n",
       "      <th>2</th>\n",
       "      <td>212.0</td>\n",
       "      <td>2021-03-22</td>\n",
       "      <td>Mm</td>\n",
       "      <td>Mm10</td>\n",
       "      <td>Cntnp-C57Bl/6</td>\n",
       "      <td>Cntnp_KO</td>\n",
       "      <td>Cntnp-KO-M</td>\n",
       "      <td>10x98</td>\n",
       "      <td>10x98_2</td>\n",
       "      <td>Cntnp-KO_2_M</td>\n",
       "      <td>...</td>\n",
       "      <td>v3! Cntnap KO #2, M; behavioral testing previo...</td>\n",
       "      <td>None</td>\n",
       "      <td>39.7</td>\n",
       "      <td>1873.5</td>\n",
       "      <td>2021-04-04</td>\n",
       "      <td>5.0</td>\n",
       "      <td>Single index; scale down; PCR_14 cycles</td>\n",
       "      <td>17.4</td>\n",
       "      <td>479.2</td>\n",
       "      <td>H9</td>\n",
       "    </tr>\n",
       "    <tr>\n",
       "      <th>3</th>\n",
       "      <td>213.0</td>\n",
       "      <td>2021-03-22</td>\n",
       "      <td>Mm</td>\n",
       "      <td>Mm10</td>\n",
       "      <td>Cntnp-C57Bl/6</td>\n",
       "      <td>Cntnp_KO</td>\n",
       "      <td>Cntnp-KO-M</td>\n",
       "      <td>10x98</td>\n",
       "      <td>10x98_3</td>\n",
       "      <td>Cntnp-KO_3_M</td>\n",
       "      <td>...</td>\n",
       "      <td>v3! Cntnap KO #3, M; behavioral testing previo...</td>\n",
       "      <td>None</td>\n",
       "      <td>45.5</td>\n",
       "      <td>1841.7</td>\n",
       "      <td>2021-04-04</td>\n",
       "      <td>5.0</td>\n",
       "      <td>Single index; scale down; PCR_14 cycles</td>\n",
       "      <td>21.9</td>\n",
       "      <td>426.4</td>\n",
       "      <td>A10</td>\n",
       "    </tr>\n",
       "    <tr>\n",
       "      <th>4</th>\n",
       "      <td>98.0</td>\n",
       "      <td>05/31/20</td>\n",
       "      <td>Mm</td>\n",
       "      <td>Mm10</td>\n",
       "      <td>C57Bl/6</td>\n",
       "      <td>Dimorph</td>\n",
       "      <td>Breeder-F</td>\n",
       "      <td>10X51</td>\n",
       "      <td>10X51_2</td>\n",
       "      <td>DI-B1-F</td>\n",
       "      <td>...</td>\n",
       "      <td>Breeders B1, 8pups DOB 27.5 (P4). perfusion aC...</td>\n",
       "      <td>None</td>\n",
       "      <td>29.8</td>\n",
       "      <td>NaN</td>\n",
       "      <td>None</td>\n",
       "      <td>NaN</td>\n",
       "      <td>None</td>\n",
       "      <td>22.2</td>\n",
       "      <td>474.0</td>\n",
       "      <td>A2</td>\n",
       "    </tr>\n",
       "  </tbody>\n",
       "</table>\n",
       "<p>5 rows × 27 columns</p>\n",
       "</div>"
      ],
      "text/plain": [
       "  Serial_Number:int Date_Captured:string Species:string Transcriptome:string  \\\n",
       "0             106.0              43993.0             Mm                 Mm10   \n",
       "1             107.0              43993.0             Mm                 Mm10   \n",
       "2             212.0           2021-03-22             Mm                 Mm10   \n",
       "3             213.0           2021-03-22             Mm                 Mm10   \n",
       "4              98.0             05/31/20             Mm                 Mm10   \n",
       "\n",
       "   Strain:string Project:string       Group ChipID:string SampleID:string  \\\n",
       "0  Cntnp-C57Bl/6       Cntnp_KO  Cntnp-KO-F         10X54         10X54_1   \n",
       "1  Cntnp-C57Bl/6       Cntnp_KO  Cntnp-KO-F         10X54         10X54_2   \n",
       "2  Cntnp-C57Bl/6       Cntnp_KO  Cntnp-KO-M         10x98         10x98_2   \n",
       "3  Cntnp-C57Bl/6       Cntnp_KO  Cntnp-KO-M         10x98         10x98_3   \n",
       "4        C57Bl/6        Dimorph   Breeder-F         10X51         10X51_2   \n",
       "\n",
       "   DonorID:string  ...                                    Comments:string  \\\n",
       "0   Cntnp-KO_2-9F  ...  Cntnp-KO female, showing Cntnp \"male\" ASD emot...   \n",
       "1  Cntnp-KO_4-10F  ...  Cntnp-KO female, showing Cntnp \"male\" ASD emot...   \n",
       "2    Cntnp-KO_2_M  ...  v3! Cntnap KO #2, M; behavioral testing previo...   \n",
       "3    Cntnp-KO_3_M  ...  v3! Cntnap KO #3, M; behavioral testing previo...   \n",
       "4         DI-B1-F  ...  Breeders B1, 8pups DOB 27.5 (P4). perfusion aC...   \n",
       "\n",
       "   cDNA_Lib_Ok:string ngperul_cDNA:float64 Avesizebp_cDNAlib        Date  \\\n",
       "0                None                 24.7               NaN        None   \n",
       "1                None                 37.7               NaN        None   \n",
       "2                None                 39.7            1873.5  2021-04-04   \n",
       "3                None                 45.5            1841.7  2021-04-04   \n",
       "4                None                 29.8               NaN        None   \n",
       "\n",
       "   cDNAul                   LIbConstructionComment ngperul_seqlib:float64  \\\n",
       "0     NaN                                     None                   17.9   \n",
       "1     NaN                                     None                   20.0   \n",
       "2     5.0  Single index; scale down; PCR_14 cycles                   17.4   \n",
       "3     5.0  Single index; scale down; PCR_14 cycles                   21.9   \n",
       "4     NaN                                     None                   22.2   \n",
       "\n",
       "  lengthbp_seqlib:float64  Sample_Index:string  \n",
       "0                   473.0                   B3  \n",
       "1                   471.0                   D3  \n",
       "2                   479.2                   H9  \n",
       "3                   426.4                  A10  \n",
       "4                   474.0                   A2  \n",
       "\n",
       "[5 rows x 27 columns]"
      ]
     },
     "execution_count": 63,
     "metadata": {},
     "output_type": "execute_result"
    }
   ],
   "source": [
    "#get meta data from ods file, only will need sample id, sex, group\n",
    "analysis_dir = '/home/isaac/analysis/scRNA-seq/'\n",
    "dimorph_sample_file = 'Dimorph_samples.ods'\n",
    "dimorph_df = read_ods(analysis_dir+dimorph_sample_file)\n",
    "dimorph_df.head()"
   ]
  },
  {
   "cell_type": "code",
   "execution_count": 82,
   "id": "7bb8c180",
   "metadata": {},
   "outputs": [
    {
     "data": {
      "text/plain": [
       "['Serial_Number:int',\n",
       " 'Date_Captured:string',\n",
       " 'Species:string',\n",
       " 'Transcriptome:string',\n",
       " 'Strain:string',\n",
       " 'Project:string',\n",
       " 'Group',\n",
       " 'ChipID:string',\n",
       " 'SampleID:string',\n",
       " 'DonorID:string',\n",
       " 'Age:string',\n",
       " 'Num_Pooled_Animals:string',\n",
       " 'Sex:string',\n",
       " 'Tissue:string',\n",
       " 'Cell_Conc:int',\n",
       " 'Target_Num_Cells:int',\n",
       " 'PCR_Cycles:int',\n",
       " 'Comments:string',\n",
       " 'cDNA_Lib_Ok:string',\n",
       " 'ngperul_cDNA:float64',\n",
       " 'Avesizebp_cDNAlib',\n",
       " 'Date',\n",
       " 'cDNAul',\n",
       " 'LIbConstructionComment',\n",
       " 'ngperul_seqlib:float64',\n",
       " 'lengthbp_seqlib:float64',\n",
       " 'Sample_Index:string']"
      ]
     },
     "execution_count": 82,
     "metadata": {},
     "output_type": "execute_result"
    }
   ],
   "source": [
    "list(dimorph_df.columns)"
   ]
  },
  {
   "cell_type": "code",
   "execution_count": 92,
   "id": "bdb80edb",
   "metadata": {},
   "outputs": [
    {
     "data": {
      "text/plain": [
       "str"
      ]
     },
     "execution_count": 92,
     "metadata": {},
     "output_type": "execute_result"
    }
   ],
   "source": [
    "type(dimorph_df['LIbConstructionComment'][2])"
   ]
  },
  {
   "cell_type": "code",
   "execution_count": 94,
   "id": "87daa569",
   "metadata": {},
   "outputs": [
    {
     "data": {
      "text/plain": [
       "['Serial_Number:int',\n",
       " 'Date_Captured:string',\n",
       " 'Species:string',\n",
       " 'Transcriptome:string',\n",
       " 'Strain:string',\n",
       " 'Project:string',\n",
       " 'Group:string',\n",
       " 'ChipID:string',\n",
       " 'SampleID:string',\n",
       " 'DonorID:string',\n",
       " 'Age:string',\n",
       " 'Num_Pooled_Animals:string',\n",
       " 'Sex:string',\n",
       " 'Tissue:string',\n",
       " 'Cell_Conc:int',\n",
       " 'Target_Num_Cells:int',\n",
       " 'PCR_Cycles:int',\n",
       " 'Comments:string',\n",
       " 'cDNA_Lib_Ok:string',\n",
       " 'ngperul_cDNA:float64',\n",
       " 'Avesizebp_cDNAlib:float64',\n",
       " 'Date:string',\n",
       " 'cDNAul:float64',\n",
       " 'LIbConstructionComment:string',\n",
       " 'ngperul_seqlib:float64',\n",
       " 'lengthbp_seqlib:float64',\n",
       " 'Sample_Index:string']"
      ]
     },
     "execution_count": 94,
     "metadata": {},
     "output_type": "execute_result"
    }
   ],
   "source": [
    "#fill in missing data types\n",
    "dimorph_df_1 = dimorph_df.rename(columns={\"Group\":\"Group:string\", \n",
    "                                          \"Avesizebp_cDNAlib\":\"Avesizebp_cDNAlib:float64\",\n",
    "                                          \"Date\":\"Date:string\",\n",
    "                                          \"cDNAul\":\"cDNAul:float64\",\n",
    "                                          \"LIbConstructionComment\": \"LIbConstructionComment:string\"\n",
    "                                         })\n",
    "list(dimorph_df_1.columns)"
   ]
  },
  {
   "cell_type": "code",
   "execution_count": 96,
   "id": "a93a55a3",
   "metadata": {},
   "outputs": [
    {
     "ename": "TypeError",
     "evalue": "string indices must be integers, not 'str'",
     "output_type": "error",
     "traceback": [
      "\u001b[0;31m---------------------------------------------------------------------------\u001b[0m",
      "\u001b[0;31mTypeError\u001b[0m                                 Traceback (most recent call last)",
      "Cell \u001b[0;32mIn[96], line 1\u001b[0m\n\u001b[0;32m----> 1\u001b[0m \u001b[38;5;28mlist\u001b[39m(dimorph_df_1)[\u001b[38;5;241m0\u001b[39m][\u001b[38;5;124m\"\u001b[39m\u001b[38;5;124m:*\u001b[39m\u001b[38;5;124m\"\u001b[39m]\n",
      "\u001b[0;31mTypeError\u001b[0m: string indices must be integers, not 'str'"
     ]
    }
   ],
   "source": [
    "list(dimorph_df_1)[0][\":*\"]"
   ]
  },
  {
   "cell_type": "code",
   "execution_count": 78,
   "id": "eb2b3698",
   "metadata": {},
   "outputs": [],
   "source": [
    "samples = [x for x in list(dimorph_df['SampleID:string']) if x != None]\n",
    "#samples"
   ]
  },
  {
   "cell_type": "code",
   "execution_count": 77,
   "id": "40075e63",
   "metadata": {},
   "outputs": [
    {
     "data": {
      "text/plain": [
       "{'10X54_1': None,\n",
       " '10X54_2': None,\n",
       " '10x98_2': None,\n",
       " '10x98_3': None,\n",
       " '10X51_2': None,\n",
       " '10X51_1': None,\n",
       " '10X52_1': None,\n",
       " '10X52_2': None,\n",
       " '10X51_3': None,\n",
       " '10X51_4': None,\n",
       " '10X52_3': None,\n",
       " '10X52_4': None,\n",
       " '10X35_1': None,\n",
       " '10X35_2': None,\n",
       " '10X38_1': None,\n",
       " '10X38_2': None,\n",
       " '10X36_1': None,\n",
       " '10X36_2': None,\n",
       " '10X37_1': None,\n",
       " '10X37_2': None}"
      ]
     },
     "execution_count": 77,
     "metadata": {},
     "output_type": "execute_result"
    }
   ],
   "source": [
    "meta_data_dict = dict.fromkeys(samples)\n",
    "meta_data_dict"
   ]
  },
  {
   "cell_type": "code",
   "execution_count": 80,
   "id": "82d96a42",
   "metadata": {},
   "outputs": [
    {
     "data": {
      "text/plain": [
       "str"
      ]
     },
     "execution_count": 80,
     "metadata": {},
     "output_type": "execute_result"
    }
   ],
   "source": [
    "type(dimorph_df['Transcriptome:string'][0])"
   ]
  },
  {
   "cell_type": "code",
   "execution_count": 68,
   "id": "6706bede",
   "metadata": {},
   "outputs": [],
   "source": [
    "\n",
    "sample_dir = '/data/runs/samples/'\n",
    "dimorph_samples = samples\n",
    "\n",
    "os.chdir(sample_dir)\n",
    "cwd = os.getcwd()\n",
    "#print (cwd)\n",
    "#for loop would go here to loop over samples\n",
    "dir = str((glob.glob(cwd+'/'+dimorph_samples[0]+\n",
    "                 '/'+'*out*'+'/'+'outs'+\n",
    "                 '/'+'filtered_feature_bc_matrix'))).replace('[','').replace(']','')[1:-1]\n",
    "\n",
    "#print(cwd)\n",
    "#print (type(dir))\n",
    "#print (os.listdir(dir))\n",
    "\n",
    "m = mmread(dir + '/' + 'matrix.mtx')\n"
   ]
  },
  {
   "cell_type": "code",
   "execution_count": 69,
   "id": "5b6d8245",
   "metadata": {},
   "outputs": [
    {
     "name": "stdout",
     "output_type": "stream",
     "text": [
      "[[0 0 0 ... 0 0 0]\n",
      " [0 0 0 ... 0 0 0]\n",
      " [0 0 0 ... 0 0 0]\n",
      " ...\n",
      " [0 0 0 ... 0 0 0]\n",
      " [0 0 0 ... 0 0 0]\n",
      " [0 0 0 ... 0 0 0]]\n",
      "(27998, 6229)\n",
      "<class 'numpy.ndarray'>\n"
     ]
    }
   ],
   "source": [
    "m_arr = m.toarray()\n",
    "print (m_arr)\n",
    "print (m_arr.shape)\n",
    "print (type(m_arr))"
   ]
  },
  {
   "cell_type": "code",
   "execution_count": 70,
   "id": "0f774d96",
   "metadata": {},
   "outputs": [
    {
     "name": "stdout",
     "output_type": "stream",
     "text": [
      "                       0\n",
      "0     AAACCCACAACAGTGG-1\n",
      "1     AAACCCACATGGCCCA-1\n",
      "2     AAACCCAGTCCCTGAG-1\n",
      "3     AAACGAACACTACAGT-1\n",
      "4     AAACGAATCCCAGCGA-1\n",
      "...                  ...\n",
      "6224  TTTGGTTTCATCTGTT-1\n",
      "6225  TTTGGTTTCTGTGCTC-1\n",
      "6226  TTTGTTGAGATGTTCC-1\n",
      "6227  TTTGTTGCATAGCACT-1\n",
      "6228  TTTGTTGTCCGCGGAT-1\n",
      "\n",
      "[6229 rows x 1 columns]\n"
     ]
    }
   ],
   "source": [
    "barcodes = pd.read_csv(dir+'/'+'barcodes.tsv', sep='\\t', header=None)\n",
    "print(barcodes)"
   ]
  },
  {
   "cell_type": "code",
   "execution_count": 71,
   "id": "ea192303",
   "metadata": {},
   "outputs": [
    {
     "name": "stdout",
     "output_type": "stream",
     "text": [
      "0       AAACCCACAACAGTGG-1\n",
      "1       AAACCCACATGGCCCA-1\n",
      "2       AAACCCAGTCCCTGAG-1\n",
      "3       AAACGAACACTACAGT-1\n",
      "4       AAACGAATCCCAGCGA-1\n",
      "               ...        \n",
      "6224    TTTGGTTTCATCTGTT-1\n",
      "6225    TTTGGTTTCTGTGCTC-1\n",
      "6226    TTTGTTGAGATGTTCC-1\n",
      "6227    TTTGTTGCATAGCACT-1\n",
      "6228    TTTGTTGTCCGCGGAT-1\n",
      "Name: 0, Length: 6229, dtype: object\n",
      "(1, 6229)\n"
     ]
    }
   ],
   "source": [
    "cells = barcodes.iloc[:,0]\n",
    "print(cells)\n",
    "cells = np.reshape(cells,(1,cells.size))\n",
    "print (cells.shape)\n",
    "#TODO - append sample ID to all cells of a given sample"
   ]
  },
  {
   "cell_type": "code",
   "execution_count": 72,
   "id": "696b983f",
   "metadata": {},
   "outputs": [
    {
     "name": "stdout",
     "output_type": "stream",
     "text": [
      "                        0               1                2\n",
      "0      ENSMUSG00000051951            Xkr4  Gene Expression\n",
      "1      ENSMUSG00000089699          Gm1992  Gene Expression\n",
      "2      ENSMUSG00000102343         Gm37381  Gene Expression\n",
      "3      ENSMUSG00000025900             Rp1  Gene Expression\n",
      "4      ENSMUSG00000109048             Rp1  Gene Expression\n",
      "...                   ...             ...              ...\n",
      "27993  ENSMUSG00000079808      AC168977.1  Gene Expression\n",
      "27994  ENSMUSG00000095041            PISD  Gene Expression\n",
      "27995  ENSMUSG00000063897           DHRSX  Gene Expression\n",
      "27996  ENSMUSG00000096730        Vmn2r122  Gene Expression\n",
      "27997  ENSMUSG00000095742  CAAA01147332.1  Gene Expression\n",
      "\n",
      "[27998 rows x 3 columns]\n",
      "0       Xkr4\n",
      "1     Gm1992\n",
      "2    Gm37381\n",
      "3        Rp1\n",
      "Name: 1, dtype: object\n"
     ]
    }
   ],
   "source": [
    "features = pd.read_csv(dir+'/'+'features.tsv', sep='\\t', header=None)\n",
    "print(features)\n",
    "print(features.iloc[0:4,1])"
   ]
  },
  {
   "cell_type": "code",
   "execution_count": 73,
   "id": "c4de4205",
   "metadata": {},
   "outputs": [
    {
     "data": {
      "text/plain": [
       "(27998, 1)"
      ]
     },
     "execution_count": 73,
     "metadata": {},
     "output_type": "execute_result"
    }
   ],
   "source": [
    "gene_labels = features.iloc[:,1]\n",
    "gene_labels = np.reshape(gene_labels ,(gene_labels.size,1))\n",
    "gene_labels.shape"
   ]
  },
  {
   "cell_type": "code",
   "execution_count": 74,
   "id": "a0154936",
   "metadata": {},
   "outputs": [
    {
     "data": {
      "text/plain": [
       "array([['Xkr4'],\n",
       "       ['Gm1992'],\n",
       "       ['Gm37381'],\n",
       "       ...,\n",
       "       ['DHRSX'],\n",
       "       ['Vmn2r122'],\n",
       "       ['CAAA01147332.1']], dtype=object)"
      ]
     },
     "execution_count": 74,
     "metadata": {},
     "output_type": "execute_result"
    }
   ],
   "source": [
    "gene_labels"
   ]
  },
  {
   "cell_type": "code",
   "execution_count": 75,
   "id": "cb7213a3",
   "metadata": {},
   "outputs": [
    {
     "data": {
      "text/plain": [
       "[array(['AAACCCACAACAGTGG-1', 'AAACCCACATGGCCCA-1', 'AAACCCAGTCCCTGAG-1',\n",
       "        ..., 'TTTGTTGAGATGTTCC-1', 'TTTGTTGCATAGCACT-1',\n",
       "        'TTTGTTGTCCGCGGAT-1'], dtype=object)]"
      ]
     },
     "execution_count": 75,
     "metadata": {},
     "output_type": "execute_result"
    }
   ],
   "source": [
    "list(cells)"
   ]
  },
  {
   "cell_type": "code",
   "execution_count": 76,
   "id": "58401723",
   "metadata": {},
   "outputs": [
    {
     "data": {
      "text/html": [
       "<div>\n",
       "<style scoped>\n",
       "    .dataframe tbody tr th:only-of-type {\n",
       "        vertical-align: middle;\n",
       "    }\n",
       "\n",
       "    .dataframe tbody tr th {\n",
       "        vertical-align: top;\n",
       "    }\n",
       "\n",
       "    .dataframe thead tr th {\n",
       "        text-align: left;\n",
       "    }\n",
       "</style>\n",
       "<table border=\"1\" class=\"dataframe\">\n",
       "  <thead>\n",
       "    <tr>\n",
       "      <th></th>\n",
       "      <th>AAACCCACAACAGTGG-1</th>\n",
       "      <th>AAACCCACATGGCCCA-1</th>\n",
       "      <th>AAACCCAGTCCCTGAG-1</th>\n",
       "      <th>AAACGAACACTACAGT-1</th>\n",
       "      <th>AAACGAATCCCAGCGA-1</th>\n",
       "      <th>AAACGAATCTGCTTAT-1</th>\n",
       "      <th>AAACGCTAGCAGATAT-1</th>\n",
       "      <th>AAACGCTAGTGCTCAT-1</th>\n",
       "      <th>AAACGCTGTCCGTACG-1</th>\n",
       "      <th>AAACGCTGTGGCTACC-1</th>\n",
       "      <th>...</th>\n",
       "      <th>TTTGGTTAGAGTCACG-1</th>\n",
       "      <th>TTTGGTTCACAGCCTG-1</th>\n",
       "      <th>TTTGGTTCAGCCTTCT-1</th>\n",
       "      <th>TTTGGTTGTCACTAGT-1</th>\n",
       "      <th>TTTGGTTGTTCCTAAG-1</th>\n",
       "      <th>TTTGGTTTCATCTGTT-1</th>\n",
       "      <th>TTTGGTTTCTGTGCTC-1</th>\n",
       "      <th>TTTGTTGAGATGTTCC-1</th>\n",
       "      <th>TTTGTTGCATAGCACT-1</th>\n",
       "      <th>TTTGTTGTCCGCGGAT-1</th>\n",
       "    </tr>\n",
       "  </thead>\n",
       "  <tbody>\n",
       "    <tr>\n",
       "      <th>(Xkr4,)</th>\n",
       "      <td>0</td>\n",
       "      <td>0</td>\n",
       "      <td>0</td>\n",
       "      <td>0</td>\n",
       "      <td>0</td>\n",
       "      <td>1</td>\n",
       "      <td>0</td>\n",
       "      <td>0</td>\n",
       "      <td>2</td>\n",
       "      <td>0</td>\n",
       "      <td>...</td>\n",
       "      <td>0</td>\n",
       "      <td>0</td>\n",
       "      <td>0</td>\n",
       "      <td>0</td>\n",
       "      <td>0</td>\n",
       "      <td>0</td>\n",
       "      <td>0</td>\n",
       "      <td>0</td>\n",
       "      <td>0</td>\n",
       "      <td>0</td>\n",
       "    </tr>\n",
       "    <tr>\n",
       "      <th>(Gm1992,)</th>\n",
       "      <td>0</td>\n",
       "      <td>0</td>\n",
       "      <td>0</td>\n",
       "      <td>0</td>\n",
       "      <td>0</td>\n",
       "      <td>0</td>\n",
       "      <td>0</td>\n",
       "      <td>0</td>\n",
       "      <td>0</td>\n",
       "      <td>0</td>\n",
       "      <td>...</td>\n",
       "      <td>0</td>\n",
       "      <td>0</td>\n",
       "      <td>0</td>\n",
       "      <td>0</td>\n",
       "      <td>0</td>\n",
       "      <td>0</td>\n",
       "      <td>0</td>\n",
       "      <td>0</td>\n",
       "      <td>0</td>\n",
       "      <td>0</td>\n",
       "    </tr>\n",
       "    <tr>\n",
       "      <th>(Gm37381,)</th>\n",
       "      <td>0</td>\n",
       "      <td>0</td>\n",
       "      <td>0</td>\n",
       "      <td>0</td>\n",
       "      <td>0</td>\n",
       "      <td>0</td>\n",
       "      <td>0</td>\n",
       "      <td>0</td>\n",
       "      <td>0</td>\n",
       "      <td>0</td>\n",
       "      <td>...</td>\n",
       "      <td>0</td>\n",
       "      <td>0</td>\n",
       "      <td>0</td>\n",
       "      <td>0</td>\n",
       "      <td>0</td>\n",
       "      <td>0</td>\n",
       "      <td>0</td>\n",
       "      <td>0</td>\n",
       "      <td>0</td>\n",
       "      <td>0</td>\n",
       "    </tr>\n",
       "    <tr>\n",
       "      <th>(Rp1,)</th>\n",
       "      <td>0</td>\n",
       "      <td>0</td>\n",
       "      <td>0</td>\n",
       "      <td>0</td>\n",
       "      <td>0</td>\n",
       "      <td>0</td>\n",
       "      <td>0</td>\n",
       "      <td>0</td>\n",
       "      <td>0</td>\n",
       "      <td>0</td>\n",
       "      <td>...</td>\n",
       "      <td>0</td>\n",
       "      <td>0</td>\n",
       "      <td>0</td>\n",
       "      <td>0</td>\n",
       "      <td>0</td>\n",
       "      <td>0</td>\n",
       "      <td>0</td>\n",
       "      <td>0</td>\n",
       "      <td>0</td>\n",
       "      <td>0</td>\n",
       "    </tr>\n",
       "    <tr>\n",
       "      <th>(Rp1,)</th>\n",
       "      <td>0</td>\n",
       "      <td>0</td>\n",
       "      <td>0</td>\n",
       "      <td>0</td>\n",
       "      <td>0</td>\n",
       "      <td>0</td>\n",
       "      <td>0</td>\n",
       "      <td>0</td>\n",
       "      <td>0</td>\n",
       "      <td>0</td>\n",
       "      <td>...</td>\n",
       "      <td>0</td>\n",
       "      <td>0</td>\n",
       "      <td>0</td>\n",
       "      <td>0</td>\n",
       "      <td>0</td>\n",
       "      <td>0</td>\n",
       "      <td>0</td>\n",
       "      <td>0</td>\n",
       "      <td>0</td>\n",
       "      <td>0</td>\n",
       "    </tr>\n",
       "  </tbody>\n",
       "</table>\n",
       "<p>5 rows × 6229 columns</p>\n",
       "</div>"
      ],
      "text/plain": [
       "           AAACCCACAACAGTGG-1 AAACCCACATGGCCCA-1 AAACCCAGTCCCTGAG-1  \\\n",
       "(Xkr4,)                     0                  0                  0   \n",
       "(Gm1992,)                   0                  0                  0   \n",
       "(Gm37381,)                  0                  0                  0   \n",
       "(Rp1,)                      0                  0                  0   \n",
       "(Rp1,)                      0                  0                  0   \n",
       "\n",
       "           AAACGAACACTACAGT-1 AAACGAATCCCAGCGA-1 AAACGAATCTGCTTAT-1  \\\n",
       "(Xkr4,)                     0                  0                  1   \n",
       "(Gm1992,)                   0                  0                  0   \n",
       "(Gm37381,)                  0                  0                  0   \n",
       "(Rp1,)                      0                  0                  0   \n",
       "(Rp1,)                      0                  0                  0   \n",
       "\n",
       "           AAACGCTAGCAGATAT-1 AAACGCTAGTGCTCAT-1 AAACGCTGTCCGTACG-1  \\\n",
       "(Xkr4,)                     0                  0                  2   \n",
       "(Gm1992,)                   0                  0                  0   \n",
       "(Gm37381,)                  0                  0                  0   \n",
       "(Rp1,)                      0                  0                  0   \n",
       "(Rp1,)                      0                  0                  0   \n",
       "\n",
       "           AAACGCTGTGGCTACC-1  ... TTTGGTTAGAGTCACG-1 TTTGGTTCACAGCCTG-1  \\\n",
       "(Xkr4,)                     0  ...                  0                  0   \n",
       "(Gm1992,)                   0  ...                  0                  0   \n",
       "(Gm37381,)                  0  ...                  0                  0   \n",
       "(Rp1,)                      0  ...                  0                  0   \n",
       "(Rp1,)                      0  ...                  0                  0   \n",
       "\n",
       "           TTTGGTTCAGCCTTCT-1 TTTGGTTGTCACTAGT-1 TTTGGTTGTTCCTAAG-1  \\\n",
       "(Xkr4,)                     0                  0                  0   \n",
       "(Gm1992,)                   0                  0                  0   \n",
       "(Gm37381,)                  0                  0                  0   \n",
       "(Rp1,)                      0                  0                  0   \n",
       "(Rp1,)                      0                  0                  0   \n",
       "\n",
       "           TTTGGTTTCATCTGTT-1 TTTGGTTTCTGTGCTC-1 TTTGTTGAGATGTTCC-1  \\\n",
       "(Xkr4,)                     0                  0                  0   \n",
       "(Gm1992,)                   0                  0                  0   \n",
       "(Gm37381,)                  0                  0                  0   \n",
       "(Rp1,)                      0                  0                  0   \n",
       "(Rp1,)                      0                  0                  0   \n",
       "\n",
       "           TTTGTTGCATAGCACT-1 TTTGTTGTCCGCGGAT-1  \n",
       "(Xkr4,)                     0                  0  \n",
       "(Gm1992,)                   0                  0  \n",
       "(Gm37381,)                  0                  0  \n",
       "(Rp1,)                      0                  0  \n",
       "(Rp1,)                      0                  0  \n",
       "\n",
       "[5 rows x 6229 columns]"
      ]
     },
     "execution_count": 76,
     "metadata": {},
     "output_type": "execute_result"
    }
   ],
   "source": [
    "#combine into single dataframe\n",
    "sample_df = pd.DataFrame(data = m_arr,\n",
    "                         index = gene_labels,\n",
    "                         columns = list(cells))\n",
    "sample_df.head()"
   ]
  },
  {
   "cell_type": "code",
   "execution_count": null,
   "id": "63a72fdd",
   "metadata": {},
   "outputs": [],
   "source": []
  }
 ],
 "metadata": {
  "kernelspec": {
   "display_name": "Python 3 (ipykernel)",
   "language": "python",
   "name": "python3"
  },
  "language_info": {
   "codemirror_mode": {
    "name": "ipython",
    "version": 3
   },
   "file_extension": ".py",
   "mimetype": "text/x-python",
   "name": "python",
   "nbconvert_exporter": "python",
   "pygments_lexer": "ipython3",
   "version": "3.11.5"
  }
 },
 "nbformat": 4,
 "nbformat_minor": 5
}
